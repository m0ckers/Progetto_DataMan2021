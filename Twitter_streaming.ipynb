{
 "cells": [
  {
   "cell_type": "code",
   "execution_count": null,
   "metadata": {},
   "outputs": [],
   "source": [
    "import configparser\n",
    "from TwitterAPI import TwitterAPI\n",
    "from TwitterAPI import TwitterPager\n",
    "\n",
    "configValues = configparser.RawConfigParser()\n",
    "configValues.read(r'.\\config.real.ini')\n",
    "\n",
    "# connecting to Twitter - replace parameters with values\n",
    "connectTwitter = TwitterAPI(\"api key\", \"api key secret\",\n",
    "  \"Access Token\", \"Access Token Secret\")\n",
    "\n",
    "# search tweets\n",
    "twitterPage = TwitterPager(connectTwitter, \\\n",
    "                               'search/tweets', \\\n",
    "                               {'q':'BTC', 'count':10, 'lang': 'en'})"
   ]
  },
  {
   "cell_type": "code",
   "execution_count": null,
   "metadata": {},
   "outputs": [],
   "source": [
    "responseValues = []\n",
    "lista = []\n",
    "# if connected successfully, retrieve paginated search results\n",
    "for item in twitterPage.get_iterator(wait=5, new_tweets=True):\n",
    "    lista.append(item)\n",
    "    if 'user' in item and 'text' in item:\n",
    "        responseValues.append({'created_at': item['created_at'],\n",
    "                                'username': item['user']['name'],\n",
    "                                'location':item['user']['location'],\n",
    "                                'followers_count':item['user']['followers_count'],\n",
    "                                'verified':item['user']['verified'],\n",
    "                                'retweet_count':item['retweet_count'],\n",
    "                               'screen_name': '@{}'.format(item['user']['screen_name']),\n",
    "                               'profile_image': item['user']['profile_image_url_https'],\n",
    "                               'profile_description': item['user']['description'],\n",
    "                               'text': item['text']})\n",
    "        print('Tweet ', len(responseValues), ' from  ', item['user']['name'])\n",
    "    elif 'message' in item and item['code'] == 88:\n",
    "        print('SUSPEND, RATE LIMIT EXCEEDED: %s\\n' % item['message'])\n",
    "        break\n",
    "\n",
    "    # stop after first 50 tweets, to not exceed the limit too fast\n",
    "    if len(responseValues) > 50:\n",
    "        break"
   ]
  },
  {
   "cell_type": "markdown",
   "metadata": {},
   "source": [
    "Per salvare in file JSON"
   ]
  },
  {
   "cell_type": "code",
   "execution_count": null,
   "metadata": {},
   "outputs": [],
   "source": [
    "import json\n",
    "with open(r'.\\twitter.txt', 'w') as outfile:\n",
    "    json.dump(responseValues, outfile, indent=4)"
   ]
  }
 ],
 "metadata": {
  "language_info": {
   "name": "python"
  },
  "orig_nbformat": 4
 },
 "nbformat": 4,
 "nbformat_minor": 2
}
