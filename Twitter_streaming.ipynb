{
 "cells": [
  {
   "cell_type": "code",
   "execution_count": 1,
   "metadata": {},
   "outputs": [],
   "source": [
    "import configparser\n",
    "from TwitterAPI import TwitterAPI\n",
    "from TwitterAPI import TwitterPager\n",
    "\n",
    "configValues = configparser.RawConfigParser()\n",
    "configValues.read(r'.\\config.real.ini')\n",
    "\n",
    "# connecting to Twitter - replace parameters with values\n",
    "connectTwitter = TwitterAPI(\"8UaLb4NE2QCdSJKZ7Gvcu96US\", \"MN6F4C6CV1Ck0f2dGIPxhSc4RcGCcm1H5h1D66LJqvLpRvJVZc\",\n",
    "  \"1461290046099709957-NkLMRREBuOUcrwDm4gJ1fnFE6O8Jt7\", \"HkA6v4dVGsBcs4JeWYUGKsWm3oer464JvJstmSrHo6Gdc\")\n",
    "\n",
    "# search tweets\n",
    "twitterPage = TwitterPager(connectTwitter, \\\n",
    "                               'search/tweets', \\\n",
    "                               {'q':'BTC', 'count':5, 'lang': 'en'})"
   ]
  },
  {
   "cell_type": "code",
   "execution_count": 2,
   "metadata": {},
   "outputs": [
    {
     "name": "stdout",
     "output_type": "stream",
     "text": [
      "ok\n",
      "ok\n",
      "ok\n",
      "ok\n",
      "ok\n",
      "ok\n",
      "ok\n"
     ]
    },
    {
     "ename": "KeyboardInterrupt",
     "evalue": "",
     "output_type": "error",
     "traceback": [
      "\u001b[1;31m---------------------------------------------------------------------------\u001b[0m",
      "\u001b[1;31mKeyboardInterrupt\u001b[0m                         Traceback (most recent call last)",
      "\u001b[1;32m~\\AppData\\Local\\Temp/ipykernel_16936/2216010666.py\u001b[0m in \u001b[0;36m<module>\u001b[1;34m\u001b[0m\n\u001b[0;32m      2\u001b[0m \u001b[0mlista\u001b[0m \u001b[1;33m=\u001b[0m \u001b[1;33m[\u001b[0m\u001b[1;33m]\u001b[0m\u001b[1;33m\u001b[0m\u001b[1;33m\u001b[0m\u001b[0m\n\u001b[0;32m      3\u001b[0m \u001b[1;31m# if connected successfully, retrieve paginated search results\u001b[0m\u001b[1;33m\u001b[0m\u001b[1;33m\u001b[0m\u001b[0m\n\u001b[1;32m----> 4\u001b[1;33m \u001b[1;32mfor\u001b[0m \u001b[0mitem\u001b[0m \u001b[1;32min\u001b[0m \u001b[0mtwitterPage\u001b[0m\u001b[1;33m.\u001b[0m\u001b[0mget_iterator\u001b[0m\u001b[1;33m(\u001b[0m\u001b[0mwait\u001b[0m\u001b[1;33m=\u001b[0m\u001b[1;36m5\u001b[0m\u001b[1;33m,\u001b[0m \u001b[0mnew_tweets\u001b[0m\u001b[1;33m=\u001b[0m\u001b[1;32mTrue\u001b[0m\u001b[1;33m)\u001b[0m\u001b[1;33m:\u001b[0m\u001b[1;33m\u001b[0m\u001b[1;33m\u001b[0m\u001b[0m\n\u001b[0m\u001b[0;32m      5\u001b[0m     \u001b[0mlista\u001b[0m\u001b[1;33m.\u001b[0m\u001b[0mappend\u001b[0m\u001b[1;33m(\u001b[0m\u001b[0mitem\u001b[0m\u001b[1;33m)\u001b[0m\u001b[1;33m\u001b[0m\u001b[1;33m\u001b[0m\u001b[0m\n\u001b[0;32m      6\u001b[0m     \u001b[1;32mif\u001b[0m \u001b[1;34m'user'\u001b[0m \u001b[1;32min\u001b[0m \u001b[0mitem\u001b[0m \u001b[1;32mand\u001b[0m \u001b[1;34m'text'\u001b[0m \u001b[1;32min\u001b[0m \u001b[0mitem\u001b[0m\u001b[1;33m:\u001b[0m\u001b[1;33m\u001b[0m\u001b[1;33m\u001b[0m\u001b[0m\n",
      "\u001b[1;32m~\\anaconda3\\lib\\site-packages\\TwitterAPI\\TwitterPager.py\u001b[0m in \u001b[0;36mget_iterator\u001b[1;34m(self, wait, new_tweets)\u001b[0m\n\u001b[0;32m    107\u001b[0m                 \u001b[0melapsed\u001b[0m \u001b[1;33m=\u001b[0m \u001b[0mtime\u001b[0m\u001b[1;33m.\u001b[0m\u001b[0mtime\u001b[0m\u001b[1;33m(\u001b[0m\u001b[1;33m)\u001b[0m \u001b[1;33m-\u001b[0m \u001b[0mstart\u001b[0m\u001b[1;33m\u001b[0m\u001b[1;33m\u001b[0m\u001b[0m\n\u001b[0;32m    108\u001b[0m                 \u001b[0mpause\u001b[0m \u001b[1;33m=\u001b[0m \u001b[0mwait\u001b[0m \u001b[1;33m-\u001b[0m \u001b[0melapsed\u001b[0m \u001b[1;32mif\u001b[0m \u001b[0melapsed\u001b[0m \u001b[1;33m<\u001b[0m \u001b[0mwait\u001b[0m \u001b[1;32melse\u001b[0m \u001b[1;36m0\u001b[0m\u001b[1;33m\u001b[0m\u001b[1;33m\u001b[0m\u001b[0m\n\u001b[1;32m--> 109\u001b[1;33m                 \u001b[0mtime\u001b[0m\u001b[1;33m.\u001b[0m\u001b[0msleep\u001b[0m\u001b[1;33m(\u001b[0m\u001b[0mpause\u001b[0m\u001b[1;33m)\u001b[0m\u001b[1;33m\u001b[0m\u001b[1;33m\u001b[0m\u001b[0m\n\u001b[0m\u001b[0;32m    110\u001b[0m \u001b[1;33m\u001b[0m\u001b[0m\n\u001b[0;32m    111\u001b[0m                 \u001b[1;31m# SETUP REQUEST FOR NEXT PAGE...\u001b[0m\u001b[1;33m\u001b[0m\u001b[1;33m\u001b[0m\u001b[0m\n",
      "\u001b[1;31mKeyboardInterrupt\u001b[0m: "
     ]
    }
   ],
   "source": [
    "responseValues = []\n",
    "lista = []\n",
    "# if connected successfully, retrieve paginated search results\n",
    "for item in twitterPage.get_iterator(wait=5, new_tweets=True):\n",
    "    lista.append(item)\n",
    "    if 'user' in item and 'text' in item:\n",
    "        responseValues.append({'created_at': item['created_at'],\n",
    "                                'username': item['user']['name'],\n",
    "                                'location':item['user']['location'],\n",
    "                                'followers_count':item['user']['followers_count'],\n",
    "                                'verified':item['user']['verified'],\n",
    "                                'retweet_count':item['retweet_count'],\n",
    "                               'screen_name': '@{}'.format(item['user']['screen_name']),\n",
    "                               'profile_image': item['user']['profile_image_url_https'],\n",
    "                               'profile_description': item['user']['description'],\n",
    "                               'text': item['text']})\n",
    "        print('ok')\n",
    "    elif 'message' in item and item['code'] == 88:\n",
    "        print('SUSPEND, RATE LIMIT EXCEEDED: %s\\n' % item['message'])\n",
    "        break\n",
    "\n",
    "    # stop after first 50 tweets, to not exceed the limit too fast\n",
    "    if len(responseValues) > 50:\n",
    "        break"
   ]
  },
  {
   "cell_type": "code",
   "execution_count": 3,
   "metadata": {},
   "outputs": [
    {
     "data": {
      "text/plain": [
       "[{'created_at': 'Tue Jan 25 14:05:32 +0000 2022',\n",
       "  'username': 'Stocks on Big Booty',\n",
       "  'location': 'Worldwide',\n",
       "  'followers_count': 3652,\n",
       "  'verified': False,\n",
       "  'retweet_count': 3,\n",
       "  'screen_name': '@bigbootystocks',\n",
       "  'profile_image': 'https://pbs.twimg.com/profile_images/1364394287899811850/gxce8zpf_normal.jpg',\n",
       "  'profile_description': 'Love Stocks & Big Booty',\n",
       "  'text': 'RT @williamcoit: Are you buying the dip $SHIB \\n\\nLike &amp; RT\\n\\nFollow @williamcoit \\n\\n#shiba #buythedip #DiamondHands #ALTSEASON #altcoins #BTC…'},\n",
       " {'created_at': 'Tue Jan 25 14:05:33 +0000 2022',\n",
       "  'username': 'Jennie',\n",
       "  'location': '',\n",
       "  'followers_count': 9,\n",
       "  'verified': False,\n",
       "  'retweet_count': 62,\n",
       "  'screen_name': '@Jenniferr0724',\n",
       "  'profile_image': 'https://pbs.twimg.com/profile_images/1470977632141414401/on4Idqqw_normal.jpg',\n",
       "  'profile_description': '',\n",
       "  'text': 'RT @Megan__Saylor: Finishing my holidays… ☀️ \\n\\nWhat did you buy in this deep? 🚀\\n\\nWhat is your next gem X100?💎\\n\\n#BTC #ETH #BNB #AVAX  #Solan…'},\n",
       " {'created_at': 'Tue Jan 25 14:05:34 +0000 2022',\n",
       "  'username': 'BitcoinPress',\n",
       "  'location': '',\n",
       "  'followers_count': 788,\n",
       "  'verified': False,\n",
       "  'retweet_count': 0,\n",
       "  'screen_name': '@bitcoinpressuk',\n",
       "  'profile_image': 'https://pbs.twimg.com/profile_images/1352981758166360065/IO_toSNY_normal.jpg',\n",
       "  'profile_description': 'Bitcoin and Blockchain news media platform.',\n",
       "  'text': '#Bitcoin #BTC Texas Bitcoin Foundation Launches to Drive Research and Education about the Social and Economic Impac… https://t.co/zMEPlDyrxY'},\n",
       " {'created_at': 'Tue Jan 25 14:05:34 +0000 2022',\n",
       "  'username': 'ポメラニアンPON',\n",
       "  'location': '',\n",
       "  'followers_count': 1106,\n",
       "  'verified': False,\n",
       "  'retweet_count': 58,\n",
       "  'screen_name': '@aristospeed1',\n",
       "  'profile_image': 'https://pbs.twimg.com/profile_images/1257930711425626118/zPiqRNbv_normal.jpg',\n",
       "  'profile_description': 'PON(メス)2018年1月15日生まれのポメラニアン(ウルフセーブル)タヌキに似てたのでPONと名付けました。PONちゃん成長日記というYouTubeやってます😊よければチャンネル登録お願いします🎵',\n",
       "  'text': 'RT @CryptoWhale: BREAKING: Amid an unprecedented energy crisis, Kazakhstan has announced a ban on all #Bitcoin mining. \\n\\nKazakhstan has one…'},\n",
       " {'created_at': 'Tue Jan 25 14:05:39 +0000 2022',\n",
       "  'username': 'Marcos Perez',\n",
       "  'location': 'San Francisco, CA',\n",
       "  'followers_count': 1,\n",
       "  'verified': False,\n",
       "  'retweet_count': 0,\n",
       "  'screen_name': '@d_mion66',\n",
       "  'profile_image': 'https://pbs.twimg.com/profile_images/1485514795248144388/ulZmMium_normal.jpg',\n",
       "  'profile_description': '',\n",
       "  'text': '@scrowder @LandauDave To the moon!\\n@TigerInu2022\\n#TigerInu2022 #BTC\\xa0 #BSC #BNB\\xa0 #dogecoin #shiba #ElonMusk… https://t.co/wr1Y9zMimc'},\n",
       " {'created_at': 'Tue Jan 25 14:05:39 +0000 2022',\n",
       "  'username': 'Priyanka Roy',\n",
       "  'location': '',\n",
       "  'followers_count': 2,\n",
       "  'verified': False,\n",
       "  'retweet_count': 601,\n",
       "  'screen_name': '@PriyankaRoy545',\n",
       "  'profile_image': 'https://pbs.twimg.com/profile_images/1428193478463221770/To-lFqMT_normal.jpg',\n",
       "  'profile_description': '',\n",
       "  'text': 'RT @gguoss: Make $BTC compatible with the #EVM ecosystem. Let the ecology of BTC be as prosperous as the ecology of Ethereum. This is our r…'},\n",
       " {'created_at': 'Tue Jan 25 14:05:39 +0000 2022',\n",
       "  'username': 'RY C',\n",
       "  'location': 'Singapore',\n",
       "  'followers_count': 21,\n",
       "  'verified': False,\n",
       "  'retweet_count': 6,\n",
       "  'screen_name': '@RyCxxx',\n",
       "  'profile_image': 'https://pbs.twimg.com/profile_images/1484979171902517248/l8Fo0vhy_normal.jpg',\n",
       "  'profile_description': 'USD Perp',\n",
       "  'text': 'RT @take_gains: and it was. \\n\\nGM\\n \\nWe are in rising wedge.\\n\\nPotential bullish PA towards the resistance of 37.6 within the next 4-8 hours.…'}]"
      ]
     },
     "execution_count": 3,
     "metadata": {},
     "output_type": "execute_result"
    }
   ],
   "source": [
    "responseValues"
   ]
  },
  {
   "cell_type": "markdown",
   "metadata": {},
   "source": [
    "Per salvare in file JSON"
   ]
  },
  {
   "cell_type": "code",
   "execution_count": null,
   "metadata": {},
   "outputs": [],
   "source": [
    "import json\n",
    "with open(r'.\\twitter.txt', 'w') as outfile:\n",
    "    json.dump(responseValues, outfile, indent=4)"
   ]
  }
 ],
 "metadata": {
  "interpreter": {
   "hash": "0ea39bdac310d20e8ab6206326f44501e9c354ab91d117663b1551b48d7d3c22"
  },
  "kernelspec": {
   "display_name": "Python 3.8.8 64-bit ('base': conda)",
   "language": "python",
   "name": "python3"
  },
  "language_info": {
   "codemirror_mode": {
    "name": "ipython",
    "version": 3
   },
   "file_extension": ".py",
   "mimetype": "text/x-python",
   "name": "python",
   "nbconvert_exporter": "python",
   "pygments_lexer": "ipython3",
   "version": "3.9.7"
  },
  "orig_nbformat": 4
 },
 "nbformat": 4,
 "nbformat_minor": 2
}
