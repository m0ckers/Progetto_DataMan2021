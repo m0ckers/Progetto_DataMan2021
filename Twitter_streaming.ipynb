{
 "cells": [
  {
   "cell_type": "code",
   "execution_count": 3,
   "metadata": {},
   "outputs": [],
   "source": [
    "import configparser\n",
    "from TwitterAPI import TwitterAPI\n",
    "from TwitterAPI import TwitterPager\n",
    "import time\n",
    "from kafka import KafkaProducer\n",
    "from json import dumps\n",
    "\n",
    "configValues = configparser.RawConfigParser()\n",
    "configValues.read(r'.\\config.real.ini')\n",
    "\n",
    "# connecting to Twitter - replace parameters with values\n",
    "connectTwitter = TwitterAPI(\"8UaLb4NE2QCdSJKZ7Gvcu96US\", \"MN6F4C6CV1Ck0f2dGIPxhSc4RcGCcm1H5h1D66LJqvLpRvJVZc\",\n",
    "  \"1461290046099709957-NkLMRREBuOUcrwDm4gJ1fnFE6O8Jt7\", \"HkA6v4dVGsBcs4JeWYUGKsWm3oer464JvJstmSrHo6Gdc\")\n",
    "\n",
    "# search tweets\n",
    "twitterPage = TwitterPager(connectTwitter, \\\n",
    "                               'search/tweets', \\\n",
    "                               {'q':'BTC', 'count':5, 'lang': 'en'})\n",
    "responseValues = []\n",
    "lista = []\n",
    "producer = KafkaProducer(bootstrap_servers=['localhost:9092'],\n",
    "                         value_serializer=lambda x: \n",
    "                         dumps(x).encode('utf-8'))"
   ]
  },
  {
   "cell_type": "code",
   "execution_count": 4,
   "metadata": {},
   "outputs": [
    {
     "name": "stdout",
     "output_type": "stream",
     "text": [
      "ok\n",
      "ok\n",
      "ok\n",
      "ok\n",
      "ok\n",
      "ok\n",
      "ok\n",
      "ok\n",
      "ok\n",
      "ok\n"
     ]
    },
    {
     "ename": "KeyboardInterrupt",
     "evalue": "",
     "output_type": "error",
     "traceback": [
      "\u001b[1;31m---------------------------------------------------------------------------\u001b[0m",
      "\u001b[1;31mKeyboardInterrupt\u001b[0m                         Traceback (most recent call last)",
      "\u001b[1;32m~\\AppData\\Local\\Temp/ipykernel_14780/1458202811.py\u001b[0m in \u001b[0;36m<module>\u001b[1;34m\u001b[0m\n\u001b[0;32m      1\u001b[0m \u001b[1;31m# if connected successfully, retrieve paginated search results\u001b[0m\u001b[1;33m\u001b[0m\u001b[1;33m\u001b[0m\u001b[0m\n\u001b[0;32m      2\u001b[0m \u001b[0mtime\u001b[0m\u001b[1;33m.\u001b[0m\u001b[0msleep\u001b[0m\u001b[1;33m(\u001b[0m\u001b[1;36m10\u001b[0m\u001b[1;33m)\u001b[0m\u001b[1;33m\u001b[0m\u001b[1;33m\u001b[0m\u001b[0m\n\u001b[1;32m----> 3\u001b[1;33m \u001b[1;32mfor\u001b[0m \u001b[0mitem\u001b[0m \u001b[1;32min\u001b[0m \u001b[0mtwitterPage\u001b[0m\u001b[1;33m.\u001b[0m\u001b[0mget_iterator\u001b[0m\u001b[1;33m(\u001b[0m\u001b[0mwait\u001b[0m\u001b[1;33m=\u001b[0m\u001b[1;36m5\u001b[0m\u001b[1;33m,\u001b[0m \u001b[0mnew_tweets\u001b[0m\u001b[1;33m=\u001b[0m\u001b[1;32mTrue\u001b[0m\u001b[1;33m)\u001b[0m\u001b[1;33m:\u001b[0m\u001b[1;33m\u001b[0m\u001b[1;33m\u001b[0m\u001b[0m\n\u001b[0m\u001b[0;32m      4\u001b[0m     \u001b[0mlista\u001b[0m\u001b[1;33m.\u001b[0m\u001b[0mappend\u001b[0m\u001b[1;33m(\u001b[0m\u001b[0mitem\u001b[0m\u001b[1;33m)\u001b[0m\u001b[1;33m\u001b[0m\u001b[1;33m\u001b[0m\u001b[0m\n\u001b[0;32m      5\u001b[0m     \u001b[1;32mif\u001b[0m \u001b[1;34m'user'\u001b[0m \u001b[1;32min\u001b[0m \u001b[0mitem\u001b[0m \u001b[1;32mand\u001b[0m \u001b[1;34m'text'\u001b[0m \u001b[1;32min\u001b[0m \u001b[0mitem\u001b[0m\u001b[1;33m:\u001b[0m\u001b[1;33m\u001b[0m\u001b[1;33m\u001b[0m\u001b[0m\n",
      "\u001b[1;32m~\\anaconda3\\lib\\site-packages\\TwitterAPI\\TwitterPager.py\u001b[0m in \u001b[0;36mget_iterator\u001b[1;34m(self, wait, new_tweets)\u001b[0m\n\u001b[0;32m    107\u001b[0m                 \u001b[0melapsed\u001b[0m \u001b[1;33m=\u001b[0m \u001b[0mtime\u001b[0m\u001b[1;33m.\u001b[0m\u001b[0mtime\u001b[0m\u001b[1;33m(\u001b[0m\u001b[1;33m)\u001b[0m \u001b[1;33m-\u001b[0m \u001b[0mstart\u001b[0m\u001b[1;33m\u001b[0m\u001b[1;33m\u001b[0m\u001b[0m\n\u001b[0;32m    108\u001b[0m                 \u001b[0mpause\u001b[0m \u001b[1;33m=\u001b[0m \u001b[0mwait\u001b[0m \u001b[1;33m-\u001b[0m \u001b[0melapsed\u001b[0m \u001b[1;32mif\u001b[0m \u001b[0melapsed\u001b[0m \u001b[1;33m<\u001b[0m \u001b[0mwait\u001b[0m \u001b[1;32melse\u001b[0m \u001b[1;36m0\u001b[0m\u001b[1;33m\u001b[0m\u001b[1;33m\u001b[0m\u001b[0m\n\u001b[1;32m--> 109\u001b[1;33m                 \u001b[0mtime\u001b[0m\u001b[1;33m.\u001b[0m\u001b[0msleep\u001b[0m\u001b[1;33m(\u001b[0m\u001b[0mpause\u001b[0m\u001b[1;33m)\u001b[0m\u001b[1;33m\u001b[0m\u001b[1;33m\u001b[0m\u001b[0m\n\u001b[0m\u001b[0;32m    110\u001b[0m \u001b[1;33m\u001b[0m\u001b[0m\n\u001b[0;32m    111\u001b[0m                 \u001b[1;31m# SETUP REQUEST FOR NEXT PAGE...\u001b[0m\u001b[1;33m\u001b[0m\u001b[1;33m\u001b[0m\u001b[0m\n",
      "\u001b[1;31mKeyboardInterrupt\u001b[0m: "
     ]
    }
   ],
   "source": [
    "\n",
    "# if connected successfully, retrieve paginated search results\n",
    "for item in twitterPage.get_iterator(wait=5, new_tweets=True):\n",
    "    lista.append(item)\n",
    "    if 'user' in item and 'text' in item:\n",
    "        responseValues.append({'created_at': item['created_at'],\n",
    "                                'username': item['user']['name'],\n",
    "                                'location':item['user']['location'],\n",
    "                                'followers_count':item['user']['followers_count'],\n",
    "                                'verified':item['user']['verified'],\n",
    "                                'retweet_count':item['retweet_count'],\n",
    "                               'screen_name': '@{}'.format(item['user']['screen_name']),\n",
    "                               'profile_image': item['user']['profile_image_url_https'],\n",
    "                               'profile_description': item['user']['description'],\n",
    "                               'text': item['text']})\n",
    "        producer.send('fizzbuzz1', {'created_at': item['created_at'],\n",
    "                                'username': item['user']['name'],\n",
    "                                'location':item['user']['location'],\n",
    "                                'followers_count':item['user']['followers_count'],\n",
    "                                'verified':item['user']['verified'],\n",
    "                                'retweet_count':item['retweet_count'],\n",
    "                               'screen_name': '@{}'.format(item['user']['screen_name']),\n",
    "                               'profile_image': item['user']['profile_image_url_https'],\n",
    "                               'profile_description': item['user']['description'],\n",
    "                               'text': item['text']})\n",
    "        print('ok')\n",
    "    elif 'message' in item and item['code'] == 88:\n",
    "        print('SUSPEND, RATE LIMIT EXCEEDED: %s\\n' % item['message'])\n",
    "        break\n",
    "\n",
    "    # stop after first 50 tweets, to not exceed the limit too fast\n",
    "    if len(responseValues) > 50:\n",
    "        break"
   ]
  },
  {
   "cell_type": "code",
   "execution_count": null,
   "metadata": {},
   "outputs": [],
   "source": [
    "responseValues = []\n",
    "lista = []\n",
    "# if connected successfully, retrieve paginated search results\n",
    "for item in twitterPage.get_iterator(wait=5, new_tweets=True):\n",
    "    lista.append(item)\n",
    "    if 'user' in item and 'text' in item:\n",
    "        responseValues.append({'created_at': item['created_at'],\n",
    "                                'username': item['user']['name'],\n",
    "                                'location':item['user']['location'],\n",
    "                                'followers_count':item['user']['followers_count'],\n",
    "                                'verified':item['user']['verified'],\n",
    "                                'retweet_count':item['retweet_count'],\n",
    "                               'screen_name': '@{}'.format(item['user']['screen_name']),\n",
    "                               'profile_image': item['user']['profile_image_url_https'],\n",
    "                               'profile_description': item['user']['description'],\n",
    "                               'text': item['text']})\n",
    "    elif 'message' in item and item['code'] == 88:\n",
    "        print('SUSPEND, RATE LIMIT EXCEEDED: %s\\n' % item['message'])\n",
    "        break\n"
   ]
  },
  {
   "cell_type": "code",
   "execution_count": 8,
   "metadata": {},
   "outputs": [
    {
     "name": "stdout",
     "output_type": "stream",
     "text": [
      "{'created_at': 'Sun Jan 30 20:31:43 +0000 2022', 'id': 1487886264372064257, 'id_str': '1487886264372064257', 'text': '@WhaleCoinTalk Arizona 👀 \\n2022 will be a greenary  year for BTC with lots of crypto adoptions. #BTC #adoption', 'truncated': False, 'entities': {'hashtags': [{'text': 'BTC', 'indices': [95, 99]}, {'text': 'adoption', 'indices': [100, 109]}], 'symbols': [], 'user_mentions': [{'screen_name': 'WhaleCoinTalk', 'name': 'Whale Coin Talk 🐳', 'id': 950440075246129152, 'id_str': '950440075246129152', 'indices': [0, 14]}], 'urls': []}, 'metadata': {'iso_language_code': 'en', 'result_type': 'recent'}, 'source': '<a href=\"http://twitter.com/download/android\" rel=\"nofollow\">Twitter for Android</a>', 'in_reply_to_status_id': 1487848087158759431, 'in_reply_to_status_id_str': '1487848087158759431', 'in_reply_to_user_id': 950440075246129152, 'in_reply_to_user_id_str': '950440075246129152', 'in_reply_to_screen_name': 'WhaleCoinTalk', 'user': {'id': 1340341755942555648, 'id_str': '1340341755942555648', 'name': 'Doublep', 'screen_name': 'doublepbro', 'location': '', 'description': 'Search for new things, Planner\\n\\n#CRO $INFO #WCT', 'url': None, 'entities': {'description': {'urls': []}}, 'protected': False, 'followers_count': 115, 'friends_count': 753, 'listed_count': 0, 'created_at': 'Sat Dec 19 17:03:24 +0000 2020', 'favourites_count': 3143, 'utc_offset': None, 'time_zone': None, 'geo_enabled': False, 'verified': False, 'statuses_count': 1779, 'lang': None, 'contributors_enabled': False, 'is_translator': False, 'is_translation_enabled': False, 'profile_background_color': 'F5F8FA', 'profile_background_image_url': None, 'profile_background_image_url_https': None, 'profile_background_tile': False, 'profile_image_url': 'http://pbs.twimg.com/profile_images/1424757016166211590/Dc9AO8p8_normal.jpg', 'profile_image_url_https': 'https://pbs.twimg.com/profile_images/1424757016166211590/Dc9AO8p8_normal.jpg', 'profile_link_color': '1DA1F2', 'profile_sidebar_border_color': 'C0DEED', 'profile_sidebar_fill_color': 'DDEEF6', 'profile_text_color': '333333', 'profile_use_background_image': True, 'has_extended_profile': True, 'default_profile': True, 'default_profile_image': False, 'following': False, 'follow_request_sent': False, 'notifications': False, 'translator_type': 'none', 'withheld_in_countries': []}, 'geo': None, 'coordinates': None, 'place': None, 'contributors': None, 'is_quote_status': False, 'retweet_count': 0, 'favorite_count': 0, 'favorited': False, 'retweeted': False, 'lang': 'en'}\n",
      "{'created_at': 'Sun Jan 30 20:31:43 +0000 2022', 'id': 1487886264636481542, 'id_str': '1487886264636481542', 'text': 'RT @SENSO_Holders: 💫What kind of place is the starship and what are its functions?\\n\\nThe Starship is a place where Sensorium presents its vi…', 'truncated': False, 'entities': {'hashtags': [], 'symbols': [], 'user_mentions': [{'screen_name': 'SENSO_Holders', 'name': 'Sensorium Galaxy 💫', 'id': 1471573035455033357, 'id_str': '1471573035455033357', 'indices': [3, 17]}], 'urls': []}, 'metadata': {'iso_language_code': 'en', 'result_type': 'recent'}, 'source': '<a href=\"http://twitter.com/download/android\" rel=\"nofollow\">Twitter for Android</a>', 'in_reply_to_status_id': None, 'in_reply_to_status_id_str': None, 'in_reply_to_user_id': None, 'in_reply_to_user_id_str': None, 'in_reply_to_screen_name': None, 'user': {'id': 1042912677834702848, 'id_str': '1042912677834702848', 'name': \"4. Venedik Dük'ü Dimitri Pelkas\", 'screen_name': 'EJDERYA_COBANI', 'location': '', 'description': '📍', 'url': None, 'entities': {'description': {'urls': []}}, 'protected': False, 'followers_count': 18, 'friends_count': 116, 'listed_count': 1, 'created_at': 'Thu Sep 20 23:05:33 +0000 2018', 'favourites_count': 1498, 'utc_offset': None, 'time_zone': None, 'geo_enabled': False, 'verified': False, 'statuses_count': 1674, 'lang': None, 'contributors_enabled': False, 'is_translator': False, 'is_translation_enabled': False, 'profile_background_color': 'F5F8FA', 'profile_background_image_url': None, 'profile_background_image_url_https': None, 'profile_background_tile': False, 'profile_image_url': 'http://pbs.twimg.com/profile_images/1438043709023657988/cULJSIbk_normal.jpg', 'profile_image_url_https': 'https://pbs.twimg.com/profile_images/1438043709023657988/cULJSIbk_normal.jpg', 'profile_link_color': '1DA1F2', 'profile_sidebar_border_color': 'C0DEED', 'profile_sidebar_fill_color': 'DDEEF6', 'profile_text_color': '333333', 'profile_use_background_image': True, 'has_extended_profile': True, 'default_profile': True, 'default_profile_image': False, 'following': False, 'follow_request_sent': False, 'notifications': False, 'translator_type': 'none', 'withheld_in_countries': []}, 'geo': None, 'coordinates': None, 'place': None, 'contributors': None, 'retweeted_status': {'created_at': 'Sun Jan 30 20:30:59 +0000 2022', 'id': 1487886078849818630, 'id_str': '1487886078849818630', 'text': '💫What kind of place is the starship and what are its functions?\\n\\nThe Starship is a place where Sensorium presents i… https://t.co/Ds8Nhzhscq', 'truncated': True, 'entities': {'hashtags': [], 'symbols': [], 'user_mentions': [], 'urls': [{'url': 'https://t.co/Ds8Nhzhscq', 'expanded_url': 'https://twitter.com/i/web/status/1487886078849818630', 'display_url': 'twitter.com/i/web/status/1…', 'indices': [117, 140]}]}, 'metadata': {'iso_language_code': 'en', 'result_type': 'recent'}, 'source': '<a href=\"http://twitter.com/download/android\" rel=\"nofollow\">Twitter for Android</a>', 'in_reply_to_status_id': None, 'in_reply_to_status_id_str': None, 'in_reply_to_user_id': None, 'in_reply_to_user_id_str': None, 'in_reply_to_screen_name': None, 'user': {'id': 1471573035455033357, 'id_str': '1471573035455033357', 'name': 'Sensorium Galaxy 💫', 'screen_name': 'SENSO_Holders', 'location': '', 'description': '✨ $SENSO Holders- Fan Page\\n\\n✨Our Official Accounts\\n📍https://t.co/WPP9372dE4\\n\\n📍https://t.co/m470Cb95qx', 'url': None, 'entities': {'description': {'urls': [{'url': 'https://t.co/WPP9372dE4', 'expanded_url': 'https://twitter.com/SensoriumGalaxy', 'display_url': 'twitter.com/SensoriumGalaxy', 'indices': [52, 75]}, {'url': 'https://t.co/m470Cb95qx', 'expanded_url': 'https://twitter.com/SensoToken', 'display_url': 'twitter.com/SensoToken', 'indices': [78, 101]}]}}, 'protected': False, 'followers_count': 293, 'friends_count': 23, 'listed_count': 0, 'created_at': 'Thu Dec 16 20:09:25 +0000 2021', 'favourites_count': 1310, 'utc_offset': None, 'time_zone': None, 'geo_enabled': False, 'verified': False, 'statuses_count': 253, 'lang': None, 'contributors_enabled': False, 'is_translator': False, 'is_translation_enabled': False, 'profile_background_color': 'F5F8FA', 'profile_background_image_url': None, 'profile_background_image_url_https': None, 'profile_background_tile': False, 'profile_image_url': 'http://pbs.twimg.com/profile_images/1471574423023009792/mOa5GmCc_normal.jpg', 'profile_image_url_https': 'https://pbs.twimg.com/profile_images/1471574423023009792/mOa5GmCc_normal.jpg', 'profile_banner_url': 'https://pbs.twimg.com/profile_banners/1471573035455033357/1639685848', 'profile_link_color': '1DA1F2', 'profile_sidebar_border_color': 'C0DEED', 'profile_sidebar_fill_color': 'DDEEF6', 'profile_text_color': '333333', 'profile_use_background_image': True, 'has_extended_profile': False, 'default_profile': True, 'default_profile_image': False, 'following': False, 'follow_request_sent': False, 'notifications': False, 'translator_type': 'none', 'withheld_in_countries': []}, 'geo': None, 'coordinates': None, 'place': None, 'contributors': None, 'is_quote_status': False, 'retweet_count': 1, 'favorite_count': 1, 'favorited': False, 'retweeted': False, 'possibly_sensitive': False, 'lang': 'en'}, 'is_quote_status': False, 'retweet_count': 1, 'favorite_count': 0, 'favorited': False, 'retweeted': False, 'lang': 'en'}\n",
      "{'created_at': 'Sun Jan 30 20:31:43 +0000 2022', 'id': 1487886265383100417, 'id_str': '1487886265383100417', 'text': 'Playing with my crayons again... Interesting the way these seem to line up and meet on 3/22/22 \\n8h #Bitcoin Chart C… https://t.co/WR9CS6PEms', 'truncated': True, 'entities': {'hashtags': [{'text': 'Bitcoin', 'indices': [99, 107]}], 'symbols': [], 'user_mentions': [], 'urls': [{'url': 'https://t.co/WR9CS6PEms', 'expanded_url': 'https://twitter.com/i/web/status/1487886265383100417', 'display_url': 'twitter.com/i/web/status/1…', 'indices': [117, 140]}]}, 'metadata': {'iso_language_code': 'en', 'result_type': 'recent'}, 'source': '<a href=\"https://mobile.twitter.com\" rel=\"nofollow\">Twitter Web App</a>', 'in_reply_to_status_id': None, 'in_reply_to_status_id_str': None, 'in_reply_to_user_id': None, 'in_reply_to_user_id_str': None, 'in_reply_to_screen_name': None, 'user': {'id': 16427293, 'id_str': '16427293', 'name': 'Jonathan Wiegratz', 'screen_name': 'jwiegratz', 'location': '🇺🇲 🇮🇹', 'description': '#Bitcoin Mining / Algorithm Investing Enthusiast | #Cisco Certified - UC Voice | \\n#Drummer, #Corgi Dad, #Porsche & Tesla-lover', 'url': 'https://t.co/q0TdZCceOt', 'entities': {'url': {'urls': [{'url': 'https://t.co/q0TdZCceOt', 'expanded_url': 'https://www.bostoncommonband.com', 'display_url': 'bostoncommonband.com', 'indices': [0, 23]}]}, 'description': {'urls': []}}, 'protected': False, 'followers_count': 89, 'friends_count': 171, 'listed_count': 4, 'created_at': 'Tue Sep 23 23:37:09 +0000 2008', 'favourites_count': 1399, 'utc_offset': None, 'time_zone': None, 'geo_enabled': False, 'verified': False, 'statuses_count': 721, 'lang': None, 'contributors_enabled': False, 'is_translator': False, 'is_translation_enabled': False, 'profile_background_color': 'C0DEED', 'profile_background_image_url': 'http://abs.twimg.com/images/themes/theme1/bg.png', 'profile_background_image_url_https': 'https://abs.twimg.com/images/themes/theme1/bg.png', 'profile_background_tile': False, 'profile_image_url': 'http://pbs.twimg.com/profile_images/1415056647727235074/Uo4ig3X4_normal.jpg', 'profile_image_url_https': 'https://pbs.twimg.com/profile_images/1415056647727235074/Uo4ig3X4_normal.jpg', 'profile_banner_url': 'https://pbs.twimg.com/profile_banners/16427293/1607038829', 'profile_link_color': '1DA1F2', 'profile_sidebar_border_color': 'C0DEED', 'profile_sidebar_fill_color': 'DDEEF6', 'profile_text_color': '333333', 'profile_use_background_image': True, 'has_extended_profile': False, 'default_profile': True, 'default_profile_image': False, 'following': False, 'follow_request_sent': False, 'notifications': False, 'translator_type': 'none', 'withheld_in_countries': []}, 'geo': None, 'coordinates': None, 'place': None, 'contributors': None, 'is_quote_status': False, 'retweet_count': 0, 'favorite_count': 0, 'favorited': False, 'retweeted': False, 'possibly_sensitive': False, 'lang': 'en'}\n",
      "{'created_at': 'Sun Jan 30 20:31:44 +0000 2022', 'id': 1487886265790115840, 'id_str': '1487886265790115840', 'text': 'RT @LilMoonLambo: This is why I buy the dip $BTC https://t.co/3gZXB7aOCz', 'truncated': False, 'entities': {'hashtags': [], 'symbols': [{'text': 'BTC', 'indices': [44, 48]}], 'user_mentions': [{'screen_name': 'LilMoonLambo', 'name': 'theweeknd.eth', 'id': 2593497397, 'id_str': '2593497397', 'indices': [3, 16]}], 'urls': [], 'media': [{'id': 1487415511835197442, 'id_str': '1487415511835197442', 'indices': [49, 72], 'media_url': 'http://pbs.twimg.com/media/FKRchwBXwAIsQm2.jpg', 'media_url_https': 'https://pbs.twimg.com/media/FKRchwBXwAIsQm2.jpg', 'url': 'https://t.co/3gZXB7aOCz', 'display_url': 'pic.twitter.com/3gZXB7aOCz', 'expanded_url': 'https://twitter.com/LilMoonLambo/status/1487415521150701572/photo/1', 'type': 'photo', 'sizes': {'thumb': {'w': 150, 'h': 150, 'resize': 'crop'}, 'small': {'w': 527, 'h': 680, 'resize': 'fit'}, 'medium': {'w': 862, 'h': 1113, 'resize': 'fit'}, 'large': {'w': 862, 'h': 1113, 'resize': 'fit'}}, 'source_status_id': 1487415521150701572, 'source_status_id_str': '1487415521150701572', 'source_user_id': 2593497397, 'source_user_id_str': '2593497397'}]}, 'extended_entities': {'media': [{'id': 1487415511835197442, 'id_str': '1487415511835197442', 'indices': [49, 72], 'media_url': 'http://pbs.twimg.com/media/FKRchwBXwAIsQm2.jpg', 'media_url_https': 'https://pbs.twimg.com/media/FKRchwBXwAIsQm2.jpg', 'url': 'https://t.co/3gZXB7aOCz', 'display_url': 'pic.twitter.com/3gZXB7aOCz', 'expanded_url': 'https://twitter.com/LilMoonLambo/status/1487415521150701572/photo/1', 'type': 'photo', 'sizes': {'thumb': {'w': 150, 'h': 150, 'resize': 'crop'}, 'small': {'w': 527, 'h': 680, 'resize': 'fit'}, 'medium': {'w': 862, 'h': 1113, 'resize': 'fit'}, 'large': {'w': 862, 'h': 1113, 'resize': 'fit'}}, 'source_status_id': 1487415521150701572, 'source_status_id_str': '1487415521150701572', 'source_user_id': 2593497397, 'source_user_id_str': '2593497397'}]}, 'metadata': {'iso_language_code': 'en', 'result_type': 'recent'}, 'source': '<a href=\"http://twitter.com/download/android\" rel=\"nofollow\">Twitter for Android</a>', 'in_reply_to_status_id': None, 'in_reply_to_status_id_str': None, 'in_reply_to_user_id': None, 'in_reply_to_user_id_str': None, 'in_reply_to_screen_name': None, 'user': {'id': 531681912, 'id_str': '531681912', 'name': 'TrendBreach', 'screen_name': 'SergheiCoca1', 'location': '', 'description': '', 'url': None, 'entities': {'description': {'urls': []}}, 'protected': False, 'followers_count': 52, 'friends_count': 675, 'listed_count': 1, 'created_at': 'Tue Mar 20 20:06:48 +0000 2012', 'favourites_count': 565, 'utc_offset': None, 'time_zone': None, 'geo_enabled': True, 'verified': False, 'statuses_count': 1569, 'lang': None, 'contributors_enabled': False, 'is_translator': False, 'is_translation_enabled': False, 'profile_background_color': 'C0DEED', 'profile_background_image_url': 'http://abs.twimg.com/images/themes/theme1/bg.png', 'profile_background_image_url_https': 'https://abs.twimg.com/images/themes/theme1/bg.png', 'profile_background_tile': False, 'profile_image_url': 'http://pbs.twimg.com/profile_images/987025500873818113/qMGqvh-8_normal.jpg', 'profile_image_url_https': 'https://pbs.twimg.com/profile_images/987025500873818113/qMGqvh-8_normal.jpg', 'profile_link_color': '1DA1F2', 'profile_sidebar_border_color': 'C0DEED', 'profile_sidebar_fill_color': 'DDEEF6', 'profile_text_color': '333333', 'profile_use_background_image': True, 'has_extended_profile': False, 'default_profile': True, 'default_profile_image': False, 'following': False, 'follow_request_sent': False, 'notifications': False, 'translator_type': 'none', 'withheld_in_countries': []}, 'geo': None, 'coordinates': None, 'place': None, 'contributors': None, 'retweeted_status': {'created_at': 'Sat Jan 29 13:21:09 +0000 2022', 'id': 1487415521150701572, 'id_str': '1487415521150701572', 'text': 'This is why I buy the dip $BTC https://t.co/3gZXB7aOCz', 'truncated': False, 'entities': {'hashtags': [], 'symbols': [{'text': 'BTC', 'indices': [26, 30]}], 'user_mentions': [], 'urls': [], 'media': [{'id': 1487415511835197442, 'id_str': '1487415511835197442', 'indices': [31, 54], 'media_url': 'http://pbs.twimg.com/media/FKRchwBXwAIsQm2.jpg', 'media_url_https': 'https://pbs.twimg.com/media/FKRchwBXwAIsQm2.jpg', 'url': 'https://t.co/3gZXB7aOCz', 'display_url': 'pic.twitter.com/3gZXB7aOCz', 'expanded_url': 'https://twitter.com/LilMoonLambo/status/1487415521150701572/photo/1', 'type': 'photo', 'sizes': {'thumb': {'w': 150, 'h': 150, 'resize': 'crop'}, 'small': {'w': 527, 'h': 680, 'resize': 'fit'}, 'medium': {'w': 862, 'h': 1113, 'resize': 'fit'}, 'large': {'w': 862, 'h': 1113, 'resize': 'fit'}}}]}, 'extended_entities': {'media': [{'id': 1487415511835197442, 'id_str': '1487415511835197442', 'indices': [31, 54], 'media_url': 'http://pbs.twimg.com/media/FKRchwBXwAIsQm2.jpg', 'media_url_https': 'https://pbs.twimg.com/media/FKRchwBXwAIsQm2.jpg', 'url': 'https://t.co/3gZXB7aOCz', 'display_url': 'pic.twitter.com/3gZXB7aOCz', 'expanded_url': 'https://twitter.com/LilMoonLambo/status/1487415521150701572/photo/1', 'type': 'photo', 'sizes': {'thumb': {'w': 150, 'h': 150, 'resize': 'crop'}, 'small': {'w': 527, 'h': 680, 'resize': 'fit'}, 'medium': {'w': 862, 'h': 1113, 'resize': 'fit'}, 'large': {'w': 862, 'h': 1113, 'resize': 'fit'}}}]}, 'metadata': {'iso_language_code': 'en', 'result_type': 'recent'}, 'source': '<a href=\"https://mobile.twitter.com\" rel=\"nofollow\">Twitter Web App</a>', 'in_reply_to_status_id': None, 'in_reply_to_status_id_str': None, 'in_reply_to_user_id': None, 'in_reply_to_user_id_str': None, 'in_reply_to_screen_name': None, 'user': {'id': 2593497397, 'id_str': '2593497397', 'name': 'theweeknd.eth', 'screen_name': 'LilMoonLambo', 'location': \"tweets aren't financial advice\", 'description': '#Bitcoin & crypto | Angel investor, NFT collector, meme dealer, marketing & content creator | DM for any business inquiries', 'url': 'https://t.co/12C37RryMK', 'entities': {'url': {'urls': [{'url': 'https://t.co/12C37RryMK', 'expanded_url': 'https://t.me/patronsofthemoon', 'display_url': 't.me/patronsofthemo…', 'indices': [0, 23]}]}, 'description': {'urls': []}}, 'protected': False, 'followers_count': 163717, 'friends_count': 1538, 'listed_count': 2031, 'created_at': 'Sat Jun 28 18:11:06 +0000 2014', 'favourites_count': 119353, 'utc_offset': None, 'time_zone': None, 'geo_enabled': False, 'verified': False, 'statuses_count': 55661, 'lang': None, 'contributors_enabled': False, 'is_translator': False, 'is_translation_enabled': False, 'profile_background_color': '000000', 'profile_background_image_url': 'http://abs.twimg.com/images/themes/theme1/bg.png', 'profile_background_image_url_https': 'https://abs.twimg.com/images/themes/theme1/bg.png', 'profile_background_tile': False, 'profile_image_url': 'http://pbs.twimg.com/profile_images/1487824948588601349/wUULxFKw_normal.jpg', 'profile_image_url_https': 'https://pbs.twimg.com/profile_images/1487824948588601349/wUULxFKw_normal.jpg', 'profile_banner_url': 'https://pbs.twimg.com/profile_banners/2593497397/1643560085', 'profile_link_color': 'F76A43', 'profile_sidebar_border_color': '000000', 'profile_sidebar_fill_color': '000000', 'profile_text_color': '000000', 'profile_use_background_image': False, 'has_extended_profile': False, 'default_profile': False, 'default_profile_image': False, 'following': False, 'follow_request_sent': False, 'notifications': False, 'translator_type': 'none', 'withheld_in_countries': []}, 'geo': None, 'coordinates': None, 'place': None, 'contributors': None, 'is_quote_status': False, 'retweet_count': 289, 'favorite_count': 1416, 'favorited': False, 'retweeted': False, 'possibly_sensitive': False, 'lang': 'en'}, 'is_quote_status': False, 'retweet_count': 289, 'favorite_count': 0, 'favorited': False, 'retweeted': False, 'possibly_sensitive': False, 'lang': 'en'}\n",
      "{'created_at': 'Sun Jan 30 20:31:44 +0000 2022', 'id': 1487886267627061253, 'id_str': '1487886267627061253', 'text': \"@soloyopee @SenWarren &gt;&gt; Banks must handle dollars according to strict laws and contracts. E.g. they can't print ne… https://t.co/90oQAzlney\", 'truncated': True, 'entities': {'hashtags': [], 'symbols': [], 'user_mentions': [{'screen_name': 'soloyopee', 'name': 'Yope', 'id': 966264615876349952, 'id_str': '966264615876349952', 'indices': [0, 10]}, {'screen_name': 'SenWarren', 'name': 'Elizabeth Warren', 'id': 970207298, 'id_str': '970207298', 'indices': [11, 21]}], 'urls': [{'url': 'https://t.co/90oQAzlney', 'expanded_url': 'https://twitter.com/i/web/status/1487886267627061253', 'display_url': 'twitter.com/i/web/status/1…', 'indices': [123, 146]}]}, 'metadata': {'iso_language_code': 'en', 'result_type': 'recent'}, 'source': '<a href=\"https://mobile.twitter.com\" rel=\"nofollow\">Twitter Web App</a>', 'in_reply_to_status_id': 1487884815227666442, 'in_reply_to_status_id_str': '1487884815227666442', 'in_reply_to_user_id': 190028536, 'in_reply_to_user_id_str': '190028536', 'in_reply_to_screen_name': 'JorgeStolfi', 'user': {'id': 190028536, 'id_str': '190028536', 'name': 'Jorge Stolfi', 'screen_name': 'JorgeStolfi', 'location': 'Campinas, Brazil, usually', 'description': 'Computer Science professor, State University of Campinas (UNICAMP)', 'url': 'http://t.co/kekfIVp7AF', 'entities': {'url': {'urls': [{'url': 'http://t.co/kekfIVp7AF', 'expanded_url': 'http://www.ic.unicamp.br/~stolfi', 'display_url': 'ic.unicamp.br/~stolfi', 'indices': [0, 22]}]}, 'description': {'urls': []}}, 'protected': False, 'followers_count': 7245, 'friends_count': 1046, 'listed_count': 177, 'created_at': 'Sun Sep 12 22:06:50 +0000 2010', 'favourites_count': 2661, 'utc_offset': None, 'time_zone': None, 'geo_enabled': False, 'verified': False, 'statuses_count': 91321, 'lang': None, 'contributors_enabled': False, 'is_translator': False, 'is_translation_enabled': False, 'profile_background_color': 'C0DEED', 'profile_background_image_url': 'http://abs.twimg.com/images/themes/theme1/bg.png', 'profile_background_image_url_https': 'https://abs.twimg.com/images/themes/theme1/bg.png', 'profile_background_tile': False, 'profile_image_url': 'http://pbs.twimg.com/profile_images/1373520541160775680/9plpAZoG_normal.jpg', 'profile_image_url_https': 'https://pbs.twimg.com/profile_images/1373520541160775680/9plpAZoG_normal.jpg', 'profile_banner_url': 'https://pbs.twimg.com/profile_banners/190028536/1402974318', 'profile_link_color': '1DA1F2', 'profile_sidebar_border_color': 'C0DEED', 'profile_sidebar_fill_color': 'DDEEF6', 'profile_text_color': '333333', 'profile_use_background_image': True, 'has_extended_profile': False, 'default_profile': True, 'default_profile_image': False, 'following': False, 'follow_request_sent': False, 'notifications': False, 'translator_type': 'none', 'withheld_in_countries': []}, 'geo': None, 'coordinates': None, 'place': None, 'contributors': None, 'is_quote_status': False, 'retweet_count': 0, 'favorite_count': 0, 'favorited': False, 'retweeted': False, 'lang': 'en'}\n"
     ]
    },
    {
     "ename": "KeyboardInterrupt",
     "evalue": "",
     "output_type": "error",
     "traceback": [
      "\u001b[1;31m---------------------------------------------------------------------------\u001b[0m",
      "\u001b[1;31mKeyboardInterrupt\u001b[0m                         Traceback (most recent call last)",
      "\u001b[1;32m~\\AppData\\Local\\Temp/ipykernel_3812/1307711222.py\u001b[0m in \u001b[0;36m<module>\u001b[1;34m\u001b[0m\n\u001b[1;32m----> 1\u001b[1;33m \u001b[1;32mfor\u001b[0m \u001b[0mitem\u001b[0m \u001b[1;32min\u001b[0m \u001b[0mtwitterPage\u001b[0m\u001b[1;33m.\u001b[0m\u001b[0mget_iterator\u001b[0m\u001b[1;33m(\u001b[0m\u001b[0mwait\u001b[0m\u001b[1;33m=\u001b[0m\u001b[1;36m5\u001b[0m\u001b[1;33m,\u001b[0m \u001b[0mnew_tweets\u001b[0m\u001b[1;33m=\u001b[0m\u001b[1;32mTrue\u001b[0m\u001b[1;33m)\u001b[0m\u001b[1;33m:\u001b[0m\u001b[1;33m\u001b[0m\u001b[1;33m\u001b[0m\u001b[0m\n\u001b[0m\u001b[0;32m      2\u001b[0m     \u001b[0mprint\u001b[0m\u001b[1;33m(\u001b[0m\u001b[0mitem\u001b[0m\u001b[1;33m)\u001b[0m\u001b[1;33m\u001b[0m\u001b[1;33m\u001b[0m\u001b[0m\n",
      "\u001b[1;32m~\\anaconda3\\lib\\site-packages\\TwitterAPI\\TwitterPager.py\u001b[0m in \u001b[0;36mget_iterator\u001b[1;34m(self, wait, new_tweets)\u001b[0m\n\u001b[0;32m    107\u001b[0m                 \u001b[0melapsed\u001b[0m \u001b[1;33m=\u001b[0m \u001b[0mtime\u001b[0m\u001b[1;33m.\u001b[0m\u001b[0mtime\u001b[0m\u001b[1;33m(\u001b[0m\u001b[1;33m)\u001b[0m \u001b[1;33m-\u001b[0m \u001b[0mstart\u001b[0m\u001b[1;33m\u001b[0m\u001b[1;33m\u001b[0m\u001b[0m\n\u001b[0;32m    108\u001b[0m                 \u001b[0mpause\u001b[0m \u001b[1;33m=\u001b[0m \u001b[0mwait\u001b[0m \u001b[1;33m-\u001b[0m \u001b[0melapsed\u001b[0m \u001b[1;32mif\u001b[0m \u001b[0melapsed\u001b[0m \u001b[1;33m<\u001b[0m \u001b[0mwait\u001b[0m \u001b[1;32melse\u001b[0m \u001b[1;36m0\u001b[0m\u001b[1;33m\u001b[0m\u001b[1;33m\u001b[0m\u001b[0m\n\u001b[1;32m--> 109\u001b[1;33m                 \u001b[0mtime\u001b[0m\u001b[1;33m.\u001b[0m\u001b[0msleep\u001b[0m\u001b[1;33m(\u001b[0m\u001b[0mpause\u001b[0m\u001b[1;33m)\u001b[0m\u001b[1;33m\u001b[0m\u001b[1;33m\u001b[0m\u001b[0m\n\u001b[0m\u001b[0;32m    110\u001b[0m \u001b[1;33m\u001b[0m\u001b[0m\n\u001b[0;32m    111\u001b[0m                 \u001b[1;31m# SETUP REQUEST FOR NEXT PAGE...\u001b[0m\u001b[1;33m\u001b[0m\u001b[1;33m\u001b[0m\u001b[0m\n",
      "\u001b[1;31mKeyboardInterrupt\u001b[0m: "
     ]
    }
   ],
   "source": [
    "for item in twitterPage.get_iterator(wait=5, new_tweets=True):\n",
    "    print(item)"
   ]
  },
  {
   "cell_type": "code",
   "execution_count": 7,
   "metadata": {},
   "outputs": [
    {
     "data": {
      "text/plain": [
       "[{'created_at': 'Sun Jan 30 20:28:37 +0000 2022',\n",
       "  'username': 'yuppie.eth 👨🏻\\u200d🚀🛸',\n",
       "  'location': 'Portland, OR',\n",
       "  'followers_count': 9359,\n",
       "  'verified': False,\n",
       "  'retweet_count': 0,\n",
       "  'screen_name': '@yuppieventures',\n",
       "  'profile_image': 'https://pbs.twimg.com/profile_images/1485870004096569344/INP93NPd_normal.jpg',\n",
       "  'profile_description': '♫▲❍▼❏♫ - High-Tech Low Life, DeFis and NFTs',\n",
       "  'text': \"@mikealfred I'm good with it. Must admit I won't turn all my monke jpeg profits into BTC, but I'm sure a little bit… https://t.co/yHpYZlSzr8\"},\n",
       " {'created_at': 'Sun Jan 30 20:28:39 +0000 2022',\n",
       "  'username': '🇮🇩 🇦🇺 ₿ ₳ Ⓥ 🟣 wendysa.btc',\n",
       "  'location': 'Bali  Island (GMT+8)',\n",
       "  'followers_count': 955,\n",
       "  'verified': False,\n",
       "  'retweet_count': 2,\n",
       "  'screen_name': '@wendysa85396804',\n",
       "  'profile_image': 'https://pbs.twimg.com/profile_images/1324497725350539264/-tmHS_JO_normal.jpg',\n",
       "  'profile_description': 'A Crypto(#Bitcoin, #BNB), Gold and IDX stocks enthusiast, also a platform agnostic software engineer .',\n",
       "  'text': 'RT @highflycrypto: Numbers dont lie $matic $eth $avax $btc $tlos $bcs $luna $sol https://t.co/QLJy8I6xMc'},\n",
       " {'created_at': 'Sun Jan 30 20:28:39 +0000 2022',\n",
       "  'username': 'emil viar',\n",
       "  'location': '',\n",
       "  'followers_count': 101,\n",
       "  'verified': False,\n",
       "  'retweet_count': 68,\n",
       "  'screen_name': '@ViarEmil',\n",
       "  'profile_image': 'https://pbs.twimg.com/profile_images/1479477086314442753/jGVXda6v_normal.jpg',\n",
       "  'profile_description': 'Those Who call themselves Hunters always get their prey.',\n",
       "  'text': 'RT @ashwsbreal: $100 #Btc to Kim ( 4/5 ) https://t.co/NL4mXRKW5w'},\n",
       " {'created_at': 'Sun Jan 30 20:28:42 +0000 2022',\n",
       "  'username': 'Nisha',\n",
       "  'location': '',\n",
       "  'followers_count': 132,\n",
       "  'verified': False,\n",
       "  'retweet_count': 135,\n",
       "  'screen_name': '@Nisha2060',\n",
       "  'profile_image': 'https://pbs.twimg.com/profile_images/1487621832681586691/AMs4F1FC_normal.jpg',\n",
       "  'profile_description': '',\n",
       "  'text': \"RT @Pit20191: #MastercardGrazWOŚP\\nJoin us in celebrating #WOSP2022 Grand Finale today and help us raise money for children's ophthalmology…\"},\n",
       " {'created_at': 'Sun Jan 30 20:28:42 +0000 2022',\n",
       "  'username': 'Arash',\n",
       "  'location': '',\n",
       "  'followers_count': 281,\n",
       "  'verified': False,\n",
       "  'retweet_count': 2,\n",
       "  'screen_name': '@ArashAgaei84',\n",
       "  'profile_image': 'https://pbs.twimg.com/profile_images/1481622593966854145/FwJxrQJa_normal.jpg',\n",
       "  'profile_description': '',\n",
       "  'text': 'RT @saNFTBS: @kucoincom @Shahilacom #bluesparrow is the real angel which supports children\\n#bluesparrow is a gem💎💎💎💎💎💎\\n#bluesparrow \\n#blues…'}]"
      ]
     },
     "execution_count": 7,
     "metadata": {},
     "output_type": "execute_result"
    }
   ],
   "source": [
    "responseValues"
   ]
  },
  {
   "cell_type": "code",
   "execution_count": 6,
   "metadata": {},
   "outputs": [
    {
     "data": {
      "text/plain": [
       "[{'created_at': 'Tue Jan 25 14:17:10 +0000 2022',\n",
       "  'username': 'Navraj Singh',\n",
       "  'location': '',\n",
       "  'followers_count': 20,\n",
       "  'verified': False,\n",
       "  'retweet_count': 74,\n",
       "  'screen_name': '@PrinceHector001',\n",
       "  'profile_image': 'https://abs.twimg.com/sticky/default_profile_images/default_profile_normal.png',\n",
       "  'profile_description': 'I am a human driving a meat-coated skeleton,riding a rock hurling through space at 67,000 miles per hour and i fear nothing',\n",
       "  'text': 'RT @Pentosh1: I know many people don\\'t believe in $BTC dom. And those who don\\'t have lost a lot. Every single time It hits the \"sell and wa…'},\n",
       " {'created_at': 'Tue Jan 25 14:17:10 +0000 2022',\n",
       "  'username': 'Catherina Borrett 🇿🇦',\n",
       "  'location': 'United Kingdom',\n",
       "  'followers_count': 1162,\n",
       "  'verified': False,\n",
       "  'retweet_count': 76,\n",
       "  'screen_name': '@SparrowKraken',\n",
       "  'profile_image': 'https://pbs.twimg.com/profile_images/1344346741643104256/UhRHmTuj_normal.jpg',\n",
       "  'profile_description': 'White African, super conspiracy theorist and a chemist #NoMore #CriticalThinking #Freedom #NeverAgain.  https://t.co/JvzLpybtWc',\n",
       "  'text': 'RT @CryptoWhale: BREAKING: Amid an unprecedented energy crisis, Kazakhstan has announced a ban on all #Bitcoin mining. \\n\\nKazakhstan has one…'},\n",
       " {'created_at': 'Tue Jan 25 14:17:11 +0000 2022',\n",
       "  'username': 'antique NFT',\n",
       "  'location': '',\n",
       "  'followers_count': 105,\n",
       "  'verified': False,\n",
       "  'retweet_count': 0,\n",
       "  'screen_name': '@Antiqque_NFT',\n",
       "  'profile_image': 'https://pbs.twimg.com/profile_images/1428439496807403528/YeRDg4Oo_normal.jpg',\n",
       "  'profile_description': 'https://t.co/OALHXUHfEV\\n\\nhttps://t.co/YGCpLxoeAi\\n\\nhttps://t.co/w6Dg4dL8E8',\n",
       "  'text': \"@digitalartchick I'm marketing a lot and I hope it doesn't bother you the drop in the price of Ethereum makes it an… https://t.co/94647ZYgSe\"},\n",
       " {'created_at': 'Tue Jan 25 14:17:11 +0000 2022',\n",
       "  'username': 'antique NFT',\n",
       "  'location': '',\n",
       "  'followers_count': 105,\n",
       "  'verified': False,\n",
       "  'retweet_count': 0,\n",
       "  'screen_name': '@Antiqque_NFT',\n",
       "  'profile_image': 'https://pbs.twimg.com/profile_images/1428439496807403528/YeRDg4Oo_normal.jpg',\n",
       "  'profile_description': 'https://t.co/OALHXUHfEV\\n\\nhttps://t.co/YGCpLxoeAi\\n\\nhttps://t.co/w6Dg4dL8E8',\n",
       "  'text': \"@binance @afa @Argentina I'm marketing a lot and I hope it doesn't bother you the drop in the price of Ethereum mak… https://t.co/ggBYYvvNcG\"},\n",
       " {'created_at': 'Tue Jan 25 14:17:11 +0000 2022',\n",
       "  'username': 'Chris',\n",
       "  'location': 'England, United Kingdom',\n",
       "  'followers_count': 227,\n",
       "  'verified': False,\n",
       "  'retweet_count': 0,\n",
       "  'screen_name': '@SPY_Buyer',\n",
       "  'profile_image': 'https://pbs.twimg.com/profile_images/1443282803081240581/ZaQHbUSt_normal.jpg',\n",
       "  'profile_description': '39 | Royal Navy Veteran, Investor and Runner',\n",
       "  'text': 'Apparently the #BTC they took off Ross Ulbricht is now worth approx 1 billion USD. https://t.co/428o5MiKTe'},\n",
       " {'created_at': 'Tue Jan 25 14:17:14 +0000 2022',\n",
       "  'username': 'qaylya',\n",
       "  'location': '',\n",
       "  'followers_count': 365,\n",
       "  'verified': False,\n",
       "  'retweet_count': 31,\n",
       "  'screen_name': '@SpynxQueen',\n",
       "  'profile_image': 'https://pbs.twimg.com/profile_images/1483121413116809219/p2L4rsLM_normal.jpg',\n",
       "  'profile_description': 'https://t.co/vsPR7b4dNp ***/ single &  happy / https://t.co/EsDpBm4b3F',\n",
       "  'text': \"RT @Hayess5178: #Syscoin The best of #Bitcoin &amp; #Ethereum.\\nIt's also faster and cheaper🏎️💰.\\n\\n⛏️ $SYS can be Merged-Mined with $BTC at no ex…\"},\n",
       " {'created_at': 'Tue Jan 25 14:17:15 +0000 2022',\n",
       "  'username': 'ﾁethᴸᴵˣ½.ᴮˢᶜ',\n",
       "  'location': 'Blockchain node 0x0000272',\n",
       "  'followers_count': 11,\n",
       "  'verified': False,\n",
       "  'retweet_count': 0,\n",
       "  'screen_name': '@Siseneg35156822',\n",
       "  'profile_image': 'https://pbs.twimg.com/profile_images/1484554636132450306/PSXUMKbA_normal.jpg',\n",
       "  'profile_description': 'Crypto enthusiast full dedicated',\n",
       "  'text': '@GatorForecast @chubs_inu @1goonrich Nothing like the power of our chubbier conmunity\\n\\n#1000xgem #ATH #ElonMusk… https://t.co/HgroKPwvQy'},\n",
       " {'created_at': 'Tue Jan 25 14:17:15 +0000 2022',\n",
       "  'username': 'BTC ₿ourgeois (Illegal Broker)',\n",
       "  'location': '',\n",
       "  'followers_count': 732,\n",
       "  'verified': False,\n",
       "  'retweet_count': 0,\n",
       "  'screen_name': '@BTC_Bourgeois',\n",
       "  'profile_image': 'https://pbs.twimg.com/profile_images/1369386334381629444/zA-wgnPa_normal.jpg',\n",
       "  'profile_description': '#Bitcoin Supporter of Shadowy Super-Coders world wide.\\n\\nhttps://t.co/XZk54C3YEo\\n\\ncheck out my BTC Block Bot for latest block information. @btc_blockbot',\n",
       "  'text': \"This is how we know it's not about health or safety, but control and punishment for those that don't toe the line.… https://t.co/7Z7lsUmof3\"},\n",
       " {'created_at': 'Tue Jan 25 14:17:15 +0000 2022',\n",
       "  'username': 'SANI1003',\n",
       "  'location': '',\n",
       "  'followers_count': 71,\n",
       "  'verified': False,\n",
       "  'retweet_count': 0,\n",
       "  'screen_name': '@suboani1003',\n",
       "  'profile_image': 'https://pbs.twimg.com/profile_images/1481861508967579649/euw8ZsZg_normal.jpg',\n",
       "  'profile_description': 'Best discord group with more executive chatroom and crypto alerts and analysis and free trial. join here.https://t.co/EHIm52sM3J',\n",
       "  'text': 'Will $XRP be above $3 by January 31st 2022?Snowflake\\n 👍 $SHIB $BTC $ETH $XRP $BNB $SOL $LINK $FTM $LTC $DOGE $ATH… https://t.co/f4ugCReeOg'}]"
      ]
     },
     "execution_count": 6,
     "metadata": {},
     "output_type": "execute_result"
    }
   ],
   "source": [
    "responseValues"
   ]
  },
  {
   "cell_type": "markdown",
   "metadata": {},
   "source": [
    "Per salvare in file JSON"
   ]
  },
  {
   "cell_type": "code",
   "execution_count": null,
   "metadata": {},
   "outputs": [],
   "source": [
    "import json\n",
    "with open(r'.\\twitter.txt', 'w') as outfile:\n",
    "    json.dump(responseValues, outfile, indent=4)"
   ]
  }
 ],
 "metadata": {
  "interpreter": {
   "hash": "0ea39bdac310d20e8ab6206326f44501e9c354ab91d117663b1551b48d7d3c22"
  },
  "kernelspec": {
   "display_name": "Python 3.8.8 64-bit ('base': conda)",
   "language": "python",
   "name": "python3"
  },
  "language_info": {
   "codemirror_mode": {
    "name": "ipython",
    "version": 3
   },
   "file_extension": ".py",
   "mimetype": "text/x-python",
   "name": "python",
   "nbconvert_exporter": "python",
   "pygments_lexer": "ipython3",
   "version": "3.9.7"
  },
  "orig_nbformat": 4
 },
 "nbformat": 4,
 "nbformat_minor": 2
}
