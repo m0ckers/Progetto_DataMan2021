{
 "cells": [
  {
   "cell_type": "markdown",
   "metadata": {},
   "source": [
    "Inizializziamo con un setup"
   ]
  },
  {
   "cell_type": "code",
   "execution_count": null,
   "metadata": {},
   "outputs": [],
   "source": [
    "apikey = '1JmHh58lNQ5Of3EzvFPpqdZukP7zDZqdSPZsG3S8zR7bpSS7fbU0P0VLfkJUQZ3G'\n",
    "secretkey = 'Qn6HybqKIyoEw5MgiIsDcJ7IGDLR0KUkm75PySiswXV7gYX623u8fzDXqqRDNGTI'\n",
    "%pip install python-binance pandas mplfinance \n",
    "%pip install websocket-client"
   ]
  },
  {
   "cell_type": "markdown",
   "metadata": {},
   "source": [
    "Stremaing"
   ]
  },
  {
   "cell_type": "code",
   "execution_count": 2,
   "metadata": {},
   "outputs": [],
   "source": [
    "import websocket, json\n"
   ]
  },
  {
   "cell_type": "code",
   "execution_count": 3,
   "metadata": {},
   "outputs": [],
   "source": [
    "cc = 'btcusdt'\n",
    "interval = '1m'\n",
    "\n",
    "\n",
    "socket = f'wss://stream.binance.com:9443/ws/{cc}@kline_{interval}'\n"
   ]
  },
  {
   "cell_type": "markdown",
   "metadata": {},
   "source": [
    "Imposto funzioni di apertura e chiusura"
   ]
  },
  {
   "cell_type": "code",
   "execution_count": 5,
   "metadata": {},
   "outputs": [],
   "source": [
    "def on_message(ws, message):\n",
    "    print(message)\n",
    "\n",
    "def on_error(ws, error):\n",
    "    print(error)\n",
    "\n",
    "def on_close(ws, close_status_code, close_msg):\n",
    "    print(\"### closed ###\")\n",
    "\n",
    "def on_open(ws):\n",
    "    def run(*args):\n",
    "        for i in range(3):\n",
    "            time.sleep(1)\n",
    "            ws.send(\"Hello %d\" % i)\n",
    "        time.sleep(1)\n",
    "        ws.close()\n",
    "        print(\"thread terminating...\")\n",
    "    _thread.start_new_thread(run, ())\n",
    "\n",
    "if __name__ == \"__main__\":\n",
    "    websocket.enableTrace(True)\n",
    "    ws = websocket.WebSocketApp( socket,\n",
    "                              on_open=on_open,\n",
    "                              on_message=on_message,\n",
    "                              on_error=on_error,\n",
    "                              on_close=on_close)\n"
   ]
  },
  {
   "cell_type": "markdown",
   "metadata": {},
   "source": [
    "TEST"
   ]
  },
  {
   "cell_type": "code",
   "execution_count": 6,
   "metadata": {},
   "outputs": [
    {
     "name": "stderr",
     "output_type": "stream",
     "text": [
      "--- request header ---\n",
      "GET /ws/btcusdt@kline_1m HTTP/1.1\n",
      "Upgrade: websocket\n",
      "Host: stream.binance.com:9443\n",
      "Origin: http://stream.binance.com:9443\n",
      "Sec-WebSocket-Key: PoJxZttKcDlC2iusaQrrew==\n",
      "Sec-WebSocket-Version: 13\n",
      "Connection: Upgrade\n",
      "\n",
      "\n",
      "-----------------------\n",
      "--- response header ---\n",
      "HTTP/1.1 101 Switching Protocols\n",
      "Date: Tue, 04 Jan 2022 20:21:30 GMT\n",
      "Connection: upgrade\n",
      "Upgrade: websocket\n",
      "Sec-WebSocket-Accept: cI4JHNbt9V97IC/gprCKkmJ7r0s=\n",
      "-----------------------\n",
      "error from callback <function on_open at 0x0000013FA5D35040>: name '_thread' is not defined\n"
     ]
    },
    {
     "name": "stdout",
     "output_type": "stream",
     "text": [
      "name '_thread' is not defined\n"
     ]
    },
    {
     "name": "stderr",
     "output_type": "stream",
     "text": [
      "++Rcv raw: b'\\x81~\\x01H{\"e\":\"kline\",\"E\":1641327691785,\"s\":\"BTCUSDT\",\"k\":{\"t\":1641327660000,\"T\":1641327719999,\"s\":\"BTCUSDT\",\"i\":\"1m\",\"f\":1210906432,\"L\":1210906663,\"o\":\"46273.92000000\",\"c\":\"46272.14000000\",\"h\":\"46283.07000000\",\"l\":\"46269.10000000\",\"v\":\"3.36267000\",\"n\":232,\"x\":false,\"q\":\"155605.64496610\",\"V\":\"2.25708000\",\"Q\":\"104444.04279990\",\"B\":\"0\"}}'\n",
      "++Rcv decoded: fin=1 opcode=1 data=b'{\"e\":\"kline\",\"E\":1641327691785,\"s\":\"BTCUSDT\",\"k\":{\"t\":1641327660000,\"T\":1641327719999,\"s\":\"BTCUSDT\",\"i\":\"1m\",\"f\":1210906432,\"L\":1210906663,\"o\":\"46273.92000000\",\"c\":\"46272.14000000\",\"h\":\"46283.07000000\",\"l\":\"46269.10000000\",\"v\":\"3.36267000\",\"n\":232,\"x\":false,\"q\":\"155605.64496610\",\"V\":\"2.25708000\",\"Q\":\"104444.04279990\",\"B\":\"0\"}}'\n"
     ]
    },
    {
     "name": "stdout",
     "output_type": "stream",
     "text": [
      "{\"e\":\"kline\",\"E\":1641327691785,\"s\":\"BTCUSDT\",\"k\":{\"t\":1641327660000,\"T\":1641327719999,\"s\":\"BTCUSDT\",\"i\":\"1m\",\"f\":1210906432,\"L\":1210906663,\"o\":\"46273.92000000\",\"c\":\"46272.14000000\",\"h\":\"46283.07000000\",\"l\":\"46269.10000000\",\"v\":\"3.36267000\",\"n\":232,\"x\":false,\"q\":\"155605.64496610\",\"V\":\"2.25708000\",\"Q\":\"104444.04279990\",\"B\":\"0\"}}\n"
     ]
    },
    {
     "name": "stderr",
     "output_type": "stream",
     "text": [
      "++Sent raw: b'\\x88\\x82\\x08\\xab\\xf1\\xfd\\x0bC'\n",
      "++Sent decoded: fin=1 opcode=8 data=b'\\x03\\xe8'\n"
     ]
    },
    {
     "name": "stdout",
     "output_type": "stream",
     "text": [
      "\n",
      "### closed ###\n"
     ]
    },
    {
     "data": {
      "text/plain": [
       "False"
      ]
     },
     "execution_count": 6,
     "metadata": {},
     "output_type": "execute_result"
    }
   ],
   "source": [
    " ws.run_forever()"
   ]
  },
  {
   "cell_type": "code",
   "execution_count": 9,
   "metadata": {},
   "outputs": [],
   "source": [
    "from binance import Client, ThreadedWebsocketManager, ThreadedDepthCacheManager\n",
    "import pandas as pd\n",
    "client = Client(apikey, secretkey)\n",
    "depth = client.get_order_book(symbol = 'BNBBTC')"
   ]
  },
  {
   "cell_type": "code",
   "execution_count": null,
   "metadata": {},
   "outputs": [],
   "source": [
    "tickers = client.get_all_tickers()\n",
    "tickers"
   ]
  }
 ],
 "metadata": {
  "interpreter": {
   "hash": "0ea39bdac310d20e8ab6206326f44501e9c354ab91d117663b1551b48d7d3c22"
  },
  "kernelspec": {
   "display_name": "Python 3.8.8 64-bit ('base': conda)",
   "language": "python",
   "name": "python3"
  },
  "language_info": {
   "codemirror_mode": {
    "name": "ipython",
    "version": 3
   },
   "file_extension": ".py",
   "mimetype": "text/x-python",
   "name": "python",
   "nbconvert_exporter": "python",
   "pygments_lexer": "ipython3",
   "version": "3.8.8"
  },
  "orig_nbformat": 4
 },
 "nbformat": 4,
 "nbformat_minor": 2
}
